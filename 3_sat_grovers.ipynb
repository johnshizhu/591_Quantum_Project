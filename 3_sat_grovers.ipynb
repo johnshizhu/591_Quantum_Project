{
 "cells": [
  {
   "cell_type": "code",
   "execution_count": 2,
   "metadata": {},
   "outputs": [],
   "source": [
    "from qiskit import *\n",
    "import matplotlib.pyplot as plt\n",
    "import numpy as np"
   ]
  },
  {
   "cell_type": "markdown",
   "metadata": {},
   "source": [
    "## The 3-SAT Problem\n",
    "A k-SAT problem has m clauses separated by AND operators with k literals in each clause, with OR separating the literals <br>\n",
    "A 3-SAT problem has m clauses, with 3 literals in each clause<br>\n",
    "In this example problem, we are going to do a 3-SAT problem with 5 clauses (> 5 is \"difficult\" )\n",
    "<br><br>\n",
    "We can map each clause to a k-input Toffoli gate, since each clause rules out one combination of variables, we can flip a target bit if clause unsatisfied\n",
    "\n",
    "## Problem\n",
    "(A ∨ B ∨ C) ∧ (A ∨ B ∨ ¬C) ∧ ( A ∨ ¬B ∨ C) ∧ (A ∨ ¬B ∨ ¬C) ∧ (¬A ∨ B ∨ C) ∧ (¬A ∨ B ∨ ¬C) ∧ (¬A ∨ ¬B ∨ ¬C)\n",
    "\n",
    "Solution: (True, True, False)<br>\n",
    "- A = True\n",
    "- B = True\n",
    "- C = False\n",
    "- (1,1,0)\n",
    "- 1 = True\n",
    "- 2 = False\n",
    "\n"
   ]
  },
  {
   "cell_type": "code",
   "execution_count": 55,
   "metadata": {},
   "outputs": [],
   "source": [
    "# Oracle\n",
    "def add_oracle(circuit):\n",
    "    circuit.cx(2,4)\n",
    "    circuit.cx(4,6)\n",
    "    circuit.cx(2,4)\n",
    "    circuit.barrier()"
   ]
  },
  {
   "cell_type": "code",
   "execution_count": 56,
   "metadata": {},
   "outputs": [],
   "source": [
    "# Diffuser\n",
    "def add_diffuser(circuit):\n",
    "    for i in range(3):\n",
    "        circuit.h(i)\n",
    "    circuit.mct([0,1,2], 6)\n",
    "    for i in range(3):\n",
    "        circuit.h(i)\n",
    "    circuit.barrier()\n",
    "    "
   ]
  },
  {
   "cell_type": "code",
   "execution_count": 61,
   "metadata": {},
   "outputs": [],
   "source": [
    "# Adding a Grover's algorithm \"step\", where n is the number of steps you add\n",
    "def add_step(circuit, n):\n",
    "    for i in range(n):\n",
    "        add_oracle(circuit)\n",
    "        add_diffuser(circuit)"
   ]
  },
  {
   "cell_type": "code",
   "execution_count": 62,
   "metadata": {},
   "outputs": [
    {
     "data": {
      "text/html": [
       "<pre style=\"word-wrap: normal;white-space: pre;background: #fff0;line-height: 1.1;font-family: &quot;Courier New&quot;,Courier,monospace\">     ┌───┐      ░                 ░ ┌───┐     ┌───┐ ░                 ░ ┌───┐»\n",
       "q_0: ┤ H ├──────░─────────────────░─┤ H ├──■──┤ H ├─░─────────────────░─┤ H ├»\n",
       "     ├───┤      ░                 ░ ├───┤  │  ├───┤ ░                 ░ ├───┤»\n",
       "q_1: ┤ H ├──────░─────────────────░─┤ H ├──■──┤ H ├─░─────────────────░─┤ H ├»\n",
       "     ├───┤      ░                 ░ ├───┤  │  ├───┤ ░                 ░ ├───┤»\n",
       "q_2: ┤ H ├──────░───■─────────■───░─┤ H ├──■──┤ H ├─░───■─────────■───░─┤ H ├»\n",
       "     └───┘      ░   │         │   ░ └───┘  │  └───┘ ░   │         │   ░ └───┘»\n",
       "q_3: ───────────░───┼─────────┼───░────────┼────────░───┼─────────┼───░──────»\n",
       "                ░ ┌─┴─┐     ┌─┴─┐ ░        │        ░ ┌─┴─┐     ┌─┴─┐ ░      »\n",
       "q_4: ───────────░─┤ X ├──■──┤ X ├─░────────┼────────░─┤ X ├──■──┤ X ├─░──────»\n",
       "                ░ └───┘  │  └───┘ ░        │        ░ └───┘  │  └───┘ ░      »\n",
       "q_5: ───────────░────────┼────────░────────┼────────░────────┼────────░──────»\n",
       "     ┌───┐┌───┐ ░      ┌─┴─┐      ░      ┌─┴─┐      ░      ┌─┴─┐      ░      »\n",
       "q_6: ┤ X ├┤ H ├─░──────┤ X ├──────░──────┤ X ├──────░──────┤ X ├──────░──────»\n",
       "     └───┘└───┘ ░      └───┘      ░      └───┘      ░      └───┘      ░      »\n",
       "«          ┌───┐ ░ \n",
       "«q_0: ──■──┤ H ├─░─\n",
       "«       │  ├───┤ ░ \n",
       "«q_1: ──■──┤ H ├─░─\n",
       "«       │  ├───┤ ░ \n",
       "«q_2: ──■──┤ H ├─░─\n",
       "«       │  └───┘ ░ \n",
       "«q_3: ──┼────────░─\n",
       "«       │        ░ \n",
       "«q_4: ──┼────────░─\n",
       "«       │        ░ \n",
       "«q_5: ──┼────────░─\n",
       "«     ┌─┴─┐      ░ \n",
       "«q_6: ┤ X ├──────░─\n",
       "«     └───┘      ░ </pre>"
      ],
      "text/plain": [
       "     ┌───┐      ░                 ░ ┌───┐     ┌───┐ ░                 ░ ┌───┐»\n",
       "q_0: ┤ H ├──────░─────────────────░─┤ H ├──■──┤ H ├─░─────────────────░─┤ H ├»\n",
       "     ├───┤      ░                 ░ ├───┤  │  ├───┤ ░                 ░ ├───┤»\n",
       "q_1: ┤ H ├──────░─────────────────░─┤ H ├──■──┤ H ├─░─────────────────░─┤ H ├»\n",
       "     ├───┤      ░                 ░ ├───┤  │  ├───┤ ░                 ░ ├───┤»\n",
       "q_2: ┤ H ├──────░───■─────────■───░─┤ H ├──■──┤ H ├─░───■─────────■───░─┤ H ├»\n",
       "     └───┘      ░   │         │   ░ └───┘  │  └───┘ ░   │         │   ░ └───┘»\n",
       "q_3: ───────────░───┼─────────┼───░────────┼────────░───┼─────────┼───░──────»\n",
       "                ░ ┌─┴─┐     ┌─┴─┐ ░        │        ░ ┌─┴─┐     ┌─┴─┐ ░      »\n",
       "q_4: ───────────░─┤ X ├──■──┤ X ├─░────────┼────────░─┤ X ├──■──┤ X ├─░──────»\n",
       "                ░ └───┘  │  └───┘ ░        │        ░ └───┘  │  └───┘ ░      »\n",
       "q_5: ───────────░────────┼────────░────────┼────────░────────┼────────░──────»\n",
       "     ┌───┐┌───┐ ░      ┌─┴─┐      ░      ┌─┴─┐      ░      ┌─┴─┐      ░      »\n",
       "q_6: ┤ X ├┤ H ├─░──────┤ X ├──────░──────┤ X ├──────░──────┤ X ├──────░──────»\n",
       "     └───┘└───┘ ░      └───┘      ░      └───┘      ░      └───┘      ░      »\n",
       "«          ┌───┐ ░ \n",
       "«q_0: ──■──┤ H ├─░─\n",
       "«       │  ├───┤ ░ \n",
       "«q_1: ──■──┤ H ├─░─\n",
       "«       │  ├───┤ ░ \n",
       "«q_2: ──■──┤ H ├─░─\n",
       "«       │  └───┘ ░ \n",
       "«q_3: ──┼────────░─\n",
       "«       │        ░ \n",
       "«q_4: ──┼────────░─\n",
       "«       │        ░ \n",
       "«q_5: ──┼────────░─\n",
       "«     ┌─┴─┐      ░ \n",
       "«q_6: ┤ X ├──────░─\n",
       "«     └───┘      ░ "
      ]
     },
     "execution_count": 62,
     "metadata": {},
     "output_type": "execute_result"
    }
   ],
   "source": [
    "# Creating circuit setup\n",
    "circuit = QuantumCircuit(7)\n",
    "\n",
    "for i in range(3):\n",
    "    circuit.h(i)\n",
    "\n",
    "# Preparing qubit 6 in minus state\n",
    "circuit.x(6)\n",
    "circuit.h(6)\n",
    "circuit.barrier()\n",
    "add_step(circuit, 2)\n",
    "\n",
    "circuit.draw()"
   ]
  },
  {
   "cell_type": "code",
   "execution_count": 63,
   "metadata": {},
   "outputs": [
    {
     "name": "stdout",
     "output_type": "stream",
     "text": [
      "3\n"
     ]
    }
   ],
   "source": [
    "test = 3\n",
    "print(test)"
   ]
  },
  {
   "cell_type": "code",
   "execution_count": null,
   "metadata": {},
   "outputs": [],
   "source": []
  }
 ],
 "metadata": {
  "kernelspec": {
   "display_name": "Python 3",
   "language": "python",
   "name": "python3"
  },
  "language_info": {
   "codemirror_mode": {
    "name": "ipython",
    "version": 3
   },
   "file_extension": ".py",
   "mimetype": "text/x-python",
   "name": "python",
   "nbconvert_exporter": "python",
   "pygments_lexer": "ipython3",
   "version": "3.11.2"
  }
 },
 "nbformat": 4,
 "nbformat_minor": 2
}
