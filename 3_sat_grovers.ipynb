{
 "cells": [
  {
   "cell_type": "code",
   "execution_count": 2,
   "metadata": {},
   "outputs": [],
   "source": [
    "from qiskit import *\n",
    "import matplotlib.pyplot as plt\n",
    "import numpy as np"
   ]
  },
  {
   "cell_type": "markdown",
   "metadata": {},
   "source": [
    "## The 3-SAT Problem\n",
    "A k-SAT problem has m clauses separated by AND operators with k literals in each clause, with OR separating the literals <br>\n",
    "A 3-SAT problem has m clauses, with 3 literals in each clause<br>\n",
    "In this example problem, we are going to do a 3-SAT problem with 5 clauses (> 5 is \"difficult\" )\n",
    "<br><br>\n",
    "We can map each clause to a k-input Toffoli gate, since each clause rules out one combination of variables, we can flip a target bit if clause unsatisfied\n"
   ]
  },
  {
   "cell_type": "code",
   "execution_count": null,
   "metadata": {},
   "outputs": [],
   "source": [
    "# Return the phase oracle as a gate\n",
    "oracle = QuantumCircuit(3, name='oracle')\n",
    "\n",
    "\n"
   ]
  },
  {
   "cell_type": "code",
   "execution_count": 30,
   "metadata": {},
   "outputs": [
    {
     "data": {
      "text/html": [
       "<pre style=\"word-wrap: normal;white-space: pre;background: #fff0;line-height: 1.1;font-family: &quot;Courier New&quot;,Courier,monospace\">     ┌───┐     ┌───┐\n",
       "q_0: ┤ H ├──■──┤ H ├\n",
       "     ├───┤  │  ├───┤\n",
       "q_1: ┤ H ├──■──┤ H ├\n",
       "     ├───┤  │  ├───┤\n",
       "q_2: ┤ H ├──■──┤ H ├\n",
       "     └───┘  │  └───┘\n",
       "q_3: ───────┼───────\n",
       "            │       \n",
       "q_4: ───────┼───────\n",
       "            │       \n",
       "q_5: ───────┼───────\n",
       "          ┌─┴─┐     \n",
       "q_6: ─────┤ X ├─────\n",
       "          └───┘     </pre>"
      ],
      "text/plain": [
       "     ┌───┐     ┌───┐\n",
       "q_0: ┤ H ├──■──┤ H ├\n",
       "     ├───┤  │  ├───┤\n",
       "q_1: ┤ H ├──■──┤ H ├\n",
       "     ├───┤  │  ├───┤\n",
       "q_2: ┤ H ├──■──┤ H ├\n",
       "     └───┘  │  └───┘\n",
       "q_3: ───────┼───────\n",
       "            │       \n",
       "q_4: ───────┼───────\n",
       "            │       \n",
       "q_5: ───────┼───────\n",
       "          ┌─┴─┐     \n",
       "q_6: ─────┤ X ├─────\n",
       "          └───┘     "
      ]
     },
     "execution_count": 30,
     "metadata": {},
     "output_type": "execute_result"
    }
   ],
   "source": [
    "# return the diffuser as a gate\n",
    "diffuser = QuantumCircuit(7, name='diffuser')\n",
    "\n",
    "# H-Gates\n",
    "for qubit in range(3):\n",
    "    diffuser.h(qubit)\n",
    "diffuser.mct([0,1,2], 6)\n",
    "for qubit in range(3):\n",
    "    diffuser.h(qubit)\n",
    "print(\"Diffuser Structure\")\n",
    "diffuser.draw()"
   ]
  },
  {
   "cell_type": "code",
   "execution_count": 28,
   "metadata": {},
   "outputs": [
    {
     "data": {
      "text/html": [
       "<pre style=\"word-wrap: normal;white-space: pre;background: #fff0;line-height: 1.1;font-family: &quot;Courier New&quot;,Courier,monospace\">          ┌───┐      ░  ░ ┌───┐     ┌───┐\n",
       "     q_0: ┤ H ├──────░──░─┤ H ├──■──┤ H ├\n",
       "          ├───┤      ░  ░ ├───┤  │  ├───┤\n",
       "     q_1: ┤ H ├──────░──░─┤ H ├──■──┤ H ├\n",
       "          ├───┤      ░  ░ ├───┤  │  ├───┤\n",
       "     q_2: ┤ H ├──────░──░─┤ H ├──■──┤ H ├\n",
       "          └───┘      ░  ░ └───┘  │  └───┘\n",
       "ancill_0: ───────────░──░────────┼───────\n",
       "                     ░  ░        │       \n",
       "ancill_1: ───────────░──░────────┼───────\n",
       "                     ░  ░        │       \n",
       "ancill_2: ───────────░──░────────┼───────\n",
       "          ┌───┐┌───┐ ░  ░      ┌─┴─┐     \n",
       "   minus: ┤ X ├┤ H ├─░──░──────┤ X ├─────\n",
       "          └───┘└───┘ ░  ░      └───┘     </pre>"
      ],
      "text/plain": [
       "          ┌───┐      ░  ░ ┌───┐     ┌───┐\n",
       "     q_0: ┤ H ├──────░──░─┤ H ├──■──┤ H ├\n",
       "          ├───┤      ░  ░ ├───┤  │  ├───┤\n",
       "     q_1: ┤ H ├──────░──░─┤ H ├──■──┤ H ├\n",
       "          ├───┤      ░  ░ ├───┤  │  ├───┤\n",
       "     q_2: ┤ H ├──────░──░─┤ H ├──■──┤ H ├\n",
       "          └───┘      ░  ░ └───┘  │  └───┘\n",
       "ancill_0: ───────────░──░────────┼───────\n",
       "                     ░  ░        │       \n",
       "ancill_1: ───────────░──░────────┼───────\n",
       "                     ░  ░        │       \n",
       "ancill_2: ───────────░──░────────┼───────\n",
       "          ┌───┐┌───┐ ░  ░      ┌─┴─┐     \n",
       "   minus: ┤ X ├┤ H ├─░──░──────┤ X ├─────\n",
       "          └───┘└───┘ ░  ░      └───┘     "
      ]
     },
     "execution_count": 28,
     "metadata": {},
     "output_type": "execute_result"
    }
   ],
   "source": [
    "# Creating circuit setup\n",
    "qr = QuantumRegister(3, 'q')\n",
    "anc = QuantumRegister(3, 'ancill')\n",
    "minus = QuantumRegister(1, 'minus')\n",
    "circuit = QuantumCircuit(qr, anc, minus)\n",
    "\n",
    "for i in range(3):\n",
    "    circuit.h(i)\n",
    "\n",
    "# Preparing qubit 6 in minus state\n",
    "circuit.x(6)\n",
    "circuit.h(6)\n",
    "circuit.barrier()\n",
    "\n",
    "# Phase oracle\n",
    "\n",
    "\n",
    "circuit.barrier()\n",
    "\n",
    "circuit.draw()\n"
   ]
  },
  {
   "cell_type": "code",
   "execution_count": null,
   "metadata": {},
   "outputs": [],
   "source": []
  }
 ],
 "metadata": {
  "kernelspec": {
   "display_name": "Python 3",
   "language": "python",
   "name": "python3"
  },
  "language_info": {
   "codemirror_mode": {
    "name": "ipython",
    "version": 3
   },
   "file_extension": ".py",
   "mimetype": "text/x-python",
   "name": "python",
   "nbconvert_exporter": "python",
   "pygments_lexer": "ipython3",
   "version": "3.11.2"
  }
 },
 "nbformat": 4,
 "nbformat_minor": 2
}
